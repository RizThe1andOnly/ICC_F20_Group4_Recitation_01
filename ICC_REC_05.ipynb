{
 "metadata": {
  "language_info": {
   "codemirror_mode": {
    "name": "ipython",
    "version": 3
   },
   "file_extension": ".py",
   "mimetype": "text/x-python",
   "name": "python",
   "nbconvert_exporter": "python",
   "pygments_lexer": "ipython3",
   "version": "3.8.5-final"
  },
  "orig_nbformat": 2,
  "kernelspec": {
   "name": "Python 3.8.5 32-bit",
   "display_name": "Python 3.8.5 32-bit",
   "metadata": {
    "interpreter": {
     "hash": "6d58817d7a36abfa3a827e4c983e24a2b2aeec7ad475bf8b9406aeab7b3302d2"
    }
   }
  }
 },
 "nbformat": 4,
 "nbformat_minor": 2,
 "cells": [
  {
   "cell_type": "code",
   "execution_count": 1,
   "metadata": {},
   "outputs": [],
   "source": [
    "import pyspark\n",
    "from pyspark import SparkContext"
   ]
  },
  {
   "cell_type": "code",
   "execution_count": 2,
   "metadata": {},
   "outputs": [],
   "source": [
    "sc = SparkContext(appName=\"task5\")"
   ]
  },
  {
   "cell_type": "code",
   "execution_count": null,
   "metadata": {},
   "outputs": [],
   "source": [
    "INPUT_FILE_PATH = \"Rec1_F19_Files_to_zip/file01_Hd_Sp_Freq\""
   ]
  },
  {
   "cell_type": "code",
   "execution_count": 10,
   "metadata": {},
   "outputs": [
    {
     "output_type": "stream",
     "name": "stdout",
     "text": [
      "['I study Spark and also Hadoop', 'I prefer Spark to Hadoop', 'I am supposed to get familiar with Spark Hadoop NoSQL PigHive']\n",
      "[(['I', 'study', 'Spark', 'and', 'also', 'Hadoop'], 1), (['I', 'prefer', 'Spark', 'to', 'Hadoop'], 1), (['I', 'am', 'supposed', 'to', 'get', 'familiar', 'with', 'Spark', 'Hadoop', 'NoSQL', 'PigHive'], 1)]\n"
     ]
    },
    {
     "output_type": "execute_result",
     "data": {
      "text/plain": [
       "3"
      ]
     },
     "metadata": {},
     "execution_count": 10
    }
   ],
   "source": [
    "lines = sc.textFile(INPUT_FILE_PATH)\n",
    "\n",
    "selfish = lines.filter(lambda line: line.startswith('I'))\n",
    "print(selfish.collect())\n",
    "messages = selfish.map(lambda line: line.split(\" \")).map(lambda term: (term,1))\n",
    "print(messages.collect())\n",
    "messages.cache()\n",
    "\n",
    "messages.filter(lambda mssg: \"Spark\" in mssg[0]).count()"
   ]
  },
  {
   "cell_type": "code",
   "execution_count": 11,
   "metadata": {},
   "outputs": [],
   "source": [
    "sc.stop()"
   ]
  }
 ]
}